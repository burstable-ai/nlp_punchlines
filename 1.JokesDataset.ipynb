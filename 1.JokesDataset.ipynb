{
 "cells": [
  {
   "cell_type": "markdown",
   "id": "b919584c-fec0-4405-81ff-de138a38c6ca",
   "metadata": {},
   "source": [
    "<div style=background-color:#EEEEFF>\n",
    "\n",
    "## 1. The Jokes Dataset\n",
    "\n",
    "To train a joke-telling AI and test its performance, we need a dataset of jokes.  Here, we'll use the \"One Million Reddit Jokes\" dataset, which covers jokes from the /r/jokes subreddit from April 1, 2020 and earlier.  The jokes dataset is provided here in `./data/one-million-reddit-jokes.csv.`  You can also download the jokes dataset directly from Kaggle [here](https://www.kaggle.com/pavellexyr/one-million-reddit-jokes).\n",
    "\n",
    "Let's start by reading in the jokes dataset, seeing what we have, and cleaning it up a little."
   ]
  },
  {
   "cell_type": "code",
   "execution_count": 1,
   "id": "14a33455-f743-4014-979c-c343cecdb8b7",
   "metadata": {},
   "outputs": [
    {
     "name": "stdout",
     "output_type": "stream",
     "text": [
      "1000000 jokes with the following columns (column name: example) \n",
      "             type: post\n",
      "               id: ftboup\n",
      "     subreddit.id: 2qh72\n",
      "   subreddit.name: jokes\n",
      "   subreddit.nsfw: False\n",
      "      created_utc: 1585785522\n",
      "        permalink: https://old.reddit.com/r/Jokes/comments/ftboup/did_you_know_google_now_has_a_platform_for/\n",
      "           domain: self.jokes\n",
      "              url: \n",
      "         selftext: It's called Google Sheets.\n",
      "            title: Did you know Google now has a platform for recording your bowel movements?\n",
      "            score: 9\n"
     ]
    }
   ],
   "source": [
    "import pandas as pd\n",
    "\n",
    "# Read in the raw jokes dataset\n",
    "filename = '/opt/tljh/user/share/nlp_punchlines_data/one-million-reddit-jokes.csv'\n",
    "raw_jokes = pd.read_csv(filename,keep_default_na=False)\n",
    "\n",
    "# Print out the column names with a single example of the data in each column\n",
    "print('{} jokes with the following columns (column name: example) '.format(raw_jokes.shape[0]))\n",
    "for c in raw_jokes.columns:\n",
    "    print('  {:>15}: {}'.format(c,raw_jokes.iloc[1][c]))"
   ]
  },
  {
   "cell_type": "markdown",
   "id": "2708d8a4-f06f-4338-aacb-075db441dbf3",
   "metadata": {},
   "source": [
    "<div style=background-color:#EEEEFF>\n",
    "\n",
    "Let's look at a few example rows from this dataset."
   ]
  },
  {
   "cell_type": "code",
   "execution_count": 2,
   "id": "5fe3559b-2aec-4552-9241-447848b50103",
   "metadata": {},
   "outputs": [
    {
     "data": {
      "text/html": [
       "<div>\n",
       "<style scoped>\n",
       "    .dataframe tbody tr th:only-of-type {\n",
       "        vertical-align: middle;\n",
       "    }\n",
       "\n",
       "    .dataframe tbody tr th {\n",
       "        vertical-align: top;\n",
       "    }\n",
       "\n",
       "    .dataframe thead th {\n",
       "        text-align: right;\n",
       "    }\n",
       "</style>\n",
       "<table border=\"1\" class=\"dataframe\">\n",
       "  <thead>\n",
       "    <tr style=\"text-align: right;\">\n",
       "      <th></th>\n",
       "      <th>type</th>\n",
       "      <th>id</th>\n",
       "      <th>subreddit.id</th>\n",
       "      <th>subreddit.name</th>\n",
       "      <th>subreddit.nsfw</th>\n",
       "      <th>created_utc</th>\n",
       "      <th>permalink</th>\n",
       "      <th>domain</th>\n",
       "      <th>url</th>\n",
       "      <th>selftext</th>\n",
       "      <th>title</th>\n",
       "      <th>score</th>\n",
       "    </tr>\n",
       "  </thead>\n",
       "  <tbody>\n",
       "    <tr>\n",
       "      <th>0</th>\n",
       "      <td>post</td>\n",
       "      <td>ftbp1i</td>\n",
       "      <td>2qh72</td>\n",
       "      <td>jokes</td>\n",
       "      <td>False</td>\n",
       "      <td>1585785543</td>\n",
       "      <td>https://old.reddit.com/r/Jokes/comments/ftbp1i...</td>\n",
       "      <td>self.jokes</td>\n",
       "      <td></td>\n",
       "      <td>My corona is covered with foreskin so it is no...</td>\n",
       "      <td>I am soooo glad I'm not circumcised!</td>\n",
       "      <td>2</td>\n",
       "    </tr>\n",
       "    <tr>\n",
       "      <th>1</th>\n",
       "      <td>post</td>\n",
       "      <td>ftboup</td>\n",
       "      <td>2qh72</td>\n",
       "      <td>jokes</td>\n",
       "      <td>False</td>\n",
       "      <td>1585785522</td>\n",
       "      <td>https://old.reddit.com/r/Jokes/comments/ftboup...</td>\n",
       "      <td>self.jokes</td>\n",
       "      <td></td>\n",
       "      <td>It's called Google Sheets.</td>\n",
       "      <td>Did you know Google now has a platform for rec...</td>\n",
       "      <td>9</td>\n",
       "    </tr>\n",
       "    <tr>\n",
       "      <th>2</th>\n",
       "      <td>post</td>\n",
       "      <td>ftbopj</td>\n",
       "      <td>2qh72</td>\n",
       "      <td>jokes</td>\n",
       "      <td>False</td>\n",
       "      <td>1585785508</td>\n",
       "      <td>https://old.reddit.com/r/Jokes/comments/ftbopj...</td>\n",
       "      <td>self.jokes</td>\n",
       "      <td></td>\n",
       "      <td>The vacuum doesn't snore after sex.\\n\\n&amp;amp;#x...</td>\n",
       "      <td>What is the difference between my wife and my ...</td>\n",
       "      <td>15</td>\n",
       "    </tr>\n",
       "  </tbody>\n",
       "</table>\n",
       "</div>"
      ],
      "text/plain": [
       "   type      id subreddit.id subreddit.name  subreddit.nsfw  created_utc  \\\n",
       "0  post  ftbp1i        2qh72          jokes           False   1585785543   \n",
       "1  post  ftboup        2qh72          jokes           False   1585785522   \n",
       "2  post  ftbopj        2qh72          jokes           False   1585785508   \n",
       "\n",
       "                                           permalink      domain url  \\\n",
       "0  https://old.reddit.com/r/Jokes/comments/ftbp1i...  self.jokes       \n",
       "1  https://old.reddit.com/r/Jokes/comments/ftboup...  self.jokes       \n",
       "2  https://old.reddit.com/r/Jokes/comments/ftbopj...  self.jokes       \n",
       "\n",
       "                                            selftext  \\\n",
       "0  My corona is covered with foreskin so it is no...   \n",
       "1                         It's called Google Sheets.   \n",
       "2  The vacuum doesn't snore after sex.\\n\\n&amp;#x...   \n",
       "\n",
       "                                               title  score  \n",
       "0               I am soooo glad I'm not circumcised!      2  \n",
       "1  Did you know Google now has a platform for rec...      9  \n",
       "2  What is the difference between my wife and my ...     15  "
      ]
     },
     "execution_count": 2,
     "metadata": {},
     "output_type": "execute_result"
    }
   ],
   "source": [
    "# Show the first three rows\n",
    "raw_jokes.iloc[:3]"
   ]
  },
  {
   "cell_type": "markdown",
   "id": "3e72c3e4-eb69-4fbc-8f95-2b8053296de3",
   "metadata": {},
   "source": [
    "<div style=background-color:#EEEEFF>\n",
    "\n",
    "Of these columns, the only ones of relevence to us are the last 3: \n",
    "* `title` is usually used as the joke \"setup\"\n",
    "* `selftext` stores the joke \"punchline\"\n",
    "* `score` is the number of upvotes the joke received and can be used as a metric of \"joke quality\"\n",
    "\n",
    "It would be nice if we could use `subreddit.nsfw` to filter out inappropriate jokes (crude, hyper-sexualized, racist, homophobic, sexist, or otherwise objectionable) but sadly `subreddit.nsfw = False` for everything in this dataset, despite that fact that many of the jokes are clearly NOT safe for work.  We'll discuss the problem of inappropriate jokes further later.\n",
    "\n",
    "Here are the top 5 most common punchlines in our dataset:"
   ]
  },
  {
   "cell_type": "code",
   "execution_count": 3,
   "id": "8cb32722-7e6c-4bf7-8227-af401d6803ac",
   "metadata": {},
   "outputs": [
    {
     "data": {
      "text/plain": [
       "[removed]                    232921\n",
       "[deleted]                    188442\n",
       "                               4472\n",
       "\\[removed\\]                     272\n",
       "To get to the other side.       125\n",
       "Name: selftext, dtype: int64"
      ]
     },
     "execution_count": 3,
     "metadata": {},
     "output_type": "execute_result"
    }
   ],
   "source": [
    "# Show the value and the number counts for the 5 most common punchlines in the dataset\n",
    "raw_jokes['selftext'].value_counts()[:5]"
   ]
  },
  {
   "cell_type": "markdown",
   "id": "46e6a594-9dd8-41a4-b752-ee58e53c44a1",
   "metadata": {},
   "source": [
    "<div style=background-color:#EEEEFF>\n",
    "\n",
    "Many of the jokes have been removed or deleted (maybe because they were inappropriate and the author or a moderator thought better of it?...).  We don't want these in our dataset.  \n",
    "    \n",
    "Some of them may be using the text \"[removed]\" as their actual punchline, in a self-referential meta joke about Reddit jokes.  We don't really want those either.\n",
    "    \n",
    "But what is going on with the jokes whose punchlines are blank?"
   ]
  },
  {
   "cell_type": "code",
   "execution_count": 4,
   "id": "1f4c295c-8751-4725-b8d1-078b38bca9f2",
   "metadata": {},
   "outputs": [
    {
     "data": {
      "text/html": [
       "<div>\n",
       "<style scoped>\n",
       "    .dataframe tbody tr th:only-of-type {\n",
       "        vertical-align: middle;\n",
       "    }\n",
       "\n",
       "    .dataframe tbody tr th {\n",
       "        vertical-align: top;\n",
       "    }\n",
       "\n",
       "    .dataframe thead th {\n",
       "        text-align: right;\n",
       "    }\n",
       "</style>\n",
       "<table border=\"1\" class=\"dataframe\">\n",
       "  <thead>\n",
       "    <tr style=\"text-align: right;\">\n",
       "      <th></th>\n",
       "      <th>title</th>\n",
       "    </tr>\n",
       "    <tr>\n",
       "      <th>counts</th>\n",
       "      <th></th>\n",
       "    </tr>\n",
       "  </thead>\n",
       "  <tbody>\n",
       "    <tr>\n",
       "      <th>30</th>\n",
       "      <td>What do you get when you cross a joke with a rhetorical question?</td>\n",
       "    </tr>\n",
       "    <tr>\n",
       "      <th>27</th>\n",
       "      <td>Donald Trump</td>\n",
       "    </tr>\n",
       "    <tr>\n",
       "      <th>9</th>\n",
       "      <td>My life</td>\n",
       "    </tr>\n",
       "    <tr>\n",
       "      <th>9</th>\n",
       "      <td>Feminism</td>\n",
       "    </tr>\n",
       "    <tr>\n",
       "      <th>7</th>\n",
       "      <td>A husband and wife are trying to set up a new password for their computer. The husband puts, \"Mypenis,\" and the wife falls on the ground laughing because on the screen it says, \"Error. Not long enough.\"</td>\n",
       "    </tr>\n",
       "  </tbody>\n",
       "</table>\n",
       "</div>"
      ],
      "text/plain": [
       "                                                                                                                                                                                                             title\n",
       "counts                                                                                                                                                                                                            \n",
       "30                                                                                                                                               What do you get when you cross a joke with a rhetorical question?\n",
       "27                                                                                                                                                                                                    Donald Trump\n",
       "9                                                                                                                                                                                                          My life\n",
       "9                                                                                                                                                                                                         Feminism\n",
       "7       A husband and wife are trying to set up a new password for their computer. The husband puts, \"Mypenis,\" and the wife falls on the ground laughing because on the screen it says, \"Error. Not long enough.\""
      ]
     },
     "execution_count": 4,
     "metadata": {},
     "output_type": "execute_result"
    }
   ],
   "source": [
    "pd.options.display.max_colwidth = None   # don't truncate the column text\n",
    "\n",
    "# Get the jokes with blank punchlines (selftext=='')\n",
    "#    Then show values & counts for the 5 most common setups\n",
    "blank_punchline_counts = raw_jokes[raw_jokes['selftext']=='']['title'].value_counts()\n",
    "blank_punchline_counts.rename_axis('title').reset_index(name='counts').set_index('counts')[:5]"
   ]
  },
  {
   "cell_type": "markdown",
   "id": "893b25c8-ef92-47fd-acb2-fd878174994a",
   "metadata": {},
   "source": [
    "<div style=background-color:#EEEEFF>\n",
    "\n",
    "Okay, I get it.  Donald Trump is a joke.  My life is a joke.  Feminism is a joke.  Ha ha.\n",
    "\n",
    "But this raises the larger issue that jokes can take many different narrative forms.  If we're hoping to get an AI to learn to tell jokes, we should start with a somewhat down-scoped problem. For this exercise, let's only use jokes that take the form of a \"setup\" question, followed by a \"punchline\" answer, e.g., \n",
    "\n",
    "* Question: Why did the chicken cross the road?\n",
    "* Answer: To get to the other side."
   ]
  },
  {
   "cell_type": "code",
   "execution_count": 13,
   "id": "f14f4380-4bdb-43da-a272-0f8be9e7e6ad",
   "metadata": {},
   "outputs": [
    {
     "name": "stdout",
     "output_type": "stream",
     "text": [
      "573847 jokes not missing punchlines, with the following columns:\n",
      "\n",
      "            setup: Did you know Google now has a platform for recording your bowel movements?\n",
      "        punchline: It's called Google Sheets.\n",
      "            score: 9\n",
      "         question: True\n",
      "     punch_length: 4\n",
      "\n",
      "204979 jokes have setups that are questions\n"
     ]
    }
   ],
   "source": [
    "# Clean up the jokes dataset:\n",
    "#   - get rid of removed or deleted punchlines\n",
    "#   - replace newlines w/ spaces (easier to read)\n",
    "#   - require the setup to be a question\n",
    "#   - remove blank punchlines (length < 1)\n",
    "\n",
    "remove = ['[removed]','[deleted]','\\[removed\\]']   # We'll remove jokes with these punchlines\n",
    "use_columns = ['title','selftext','score']  # We only care about these columns\n",
    "\n",
    "jokes = raw_jokes[raw_jokes['selftext'].apply(lambda x: x not in remove)][use_columns]\n",
    "\n",
    "# Rename columns, replace newlines with spaces\n",
    "jokes = jokes.rename(columns={'title':'setup','selftext':'punchline'})\n",
    "jokes['setup'] = jokes['setup'].apply(lambda x: x.replace('\\n',' ').replace('\\r',' '))\n",
    "jokes['punchline'] = jokes['punchline'].apply(lambda x: x.replace('\\n',' ').replace('\\r',' '))\n",
    "\n",
    "# Is the setup a question?\n",
    "jokes['question'] = jokes['setup'].apply(lambda x: True if x[-1]=='?' else False)\n",
    "# How long is the punchline?\n",
    "jokes['punch_length'] = jokes['punchline'].apply(lambda x: len(x.split()))\n",
    "# Only keep jokes with punchlines containing at least one word (some are all blank space)\n",
    "jokes = jokes[jokes['punch_length'] >= 1]\n",
    "\n",
    "print('{} jokes not missing punchlines, with the following columns:\\n'.format(jokes.shape[0]))\n",
    "for c in jokes.columns:\n",
    "    print('  {:>15}: {}'.format(c,jokes.iloc[1][c]))\n",
    "\n",
    "print('\\n{} jokes have setups that are questions'.format(jokes[jokes['question']==True].shape[0]))"
   ]
  },
  {
   "cell_type": "markdown",
   "id": "41782bc9-4693-4aa9-8d0b-cac510aea84e",
   "metadata": {},
   "source": [
    "<div style=background-color:#EEEEFF>\n",
    "\n",
    "We probably also want to restrict ourselves to jokes with short(ish) punchlines---the longer we let an AI ramble on, the less sense it tends to make.\n",
    "\n",
    "Let's look at the length of the punchlines for our jokes that are questions:"
   ]
  },
  {
   "cell_type": "code",
   "execution_count": 6,
   "id": "0a65348d-e651-464d-aef2-61dc8e1b58d5",
   "metadata": {},
   "outputs": [
    {
     "name": "stdout",
     "output_type": "stream",
     "text": [
      "NOTE: logarithmic y-axis!\n"
     ]
    },
    {
     "data": {
      "image/png": "[encoded data removed]",
      "text/plain": [
       "<Figure size 576x360 with 1 Axes>"
      ]
     },
     "metadata": {
      "needs_background": "light"
     },
     "output_type": "display_data"
    }
   ],
   "source": [
    "import matplotlib.pyplot as plt\n",
    "\n",
    "print('NOTE: logarithmic y-axis!')\n",
    "fig, ax = plt.subplots(1,1, figsize=(8,5))\n",
    "plt.rcParams['font.size'] = '18'\n",
    "ax.plot(list(jokes[jokes['question']==True]['punch_length'].value_counts().index),\n",
    "        list(jokes[jokes['question']==True]['punch_length'].value_counts().values),\n",
    "        'go', label='Question jokes')\n",
    "ax.plot(list(jokes[jokes['question']==False]['punch_length'].value_counts().index),\n",
    "        list(jokes[jokes['question']==False]['punch_length'].value_counts().values),\n",
    "        'ro', label='Non-question jokes')\n",
    "plt.yscale('log', nonpositive='clip')\n",
    "ax.set_xlim((0,60))\n",
    "ax.set_ylim((1,1e5))\n",
    "_ = ax.set_xlabel('# words in punchline',size=14)\n",
    "_ = ax.set_ylabel('# Jokes w/ this length punchline',size=14)\n",
    "_ = ax.legend(fontsize=14)"
   ]
  },
  {
   "cell_type": "markdown",
   "id": "22e78d70-8365-4ed9-b1fa-f484610aed37",
   "metadata": {},
   "source": [
    "<div style=background-color:#EEEEFF>\n",
    "\n",
    "Question jokes tend to have short punchlines---typically just a few words long---whereas setups that are not questions often have a longer \"narrative\" format and a long tail of very long punchlines.  Note that the y-axis is logarithmic, so there are ~100x more very long punchlines in the non-question jokes than the question jokes.\n",
    "    \n",
    "Let's stick with \"question\" jokes that have short(ish) punchlines, no more than 20 words."
   ]
  },
  {
   "cell_type": "code",
   "execution_count": 15,
   "id": "2bcc3b61-d5ad-44fc-947f-b67a3ab4bd9b",
   "metadata": {},
   "outputs": [
    {
     "name": "stdout",
     "output_type": "stream",
     "text": [
      "197784 Q/A jokes with short punchlines\n"
     ]
    }
   ],
   "source": [
    "jokes = jokes[(jokes['question']==True) & (jokes['punch_length'] <= 20)]\n",
    "print('{} Q/A jokes with short punchlines'.format(jokes.shape[0]))"
   ]
  },
  {
   "cell_type": "markdown",
   "id": "5ceaac8c-3a50-4ef6-adf4-2e48801ec134",
   "metadata": {},
   "source": [
    "<div style=background-color:#EEEEFF>\n",
    "\n",
    "Let's only keep jokes that *at least one* person thought were funny."
   ]
  },
  {
   "cell_type": "code",
   "execution_count": 16,
   "id": "121afb87-3a16-42b3-b00c-a0cb6a60bda1",
   "metadata": {},
   "outputs": [
    {
     "name": "stdout",
     "output_type": "stream",
     "text": [
      "153301 Q/A jokes with short punchlines that got 1+ upvotes\n"
     ]
    }
   ],
   "source": [
    "jokes = jokes[jokes['score'] >= 1]\n",
    "print('{} Q/A jokes with short punchlines that got 1+ upvotes'.format(jokes.shape[0]))"
   ]
  },
  {
   "cell_type": "markdown",
   "id": "eee9253c-2f08-4d1b-86fa-5cfdb95ea4b7",
   "metadata": {},
   "source": [
    "<div style=background-color:#EEEEFF>\n",
    "\n",
    "And finally, some jokes get posted to Reddit again and again.  We want to deduplicate those, but we want to count *all* the upvotes received by the joke.  If we assume a Reddit user only sees and upvotes a joke once (rather than upvoting the same joke again and again), we can do that by summing the upvotes for each duplicate entry of a joke."
   ]
  },
  {
   "cell_type": "code",
   "execution_count": 17,
   "id": "eed96433-aa39-4499-8a10-56203f99ea3e",
   "metadata": {},
   "outputs": [
    {
     "name": "stdout",
     "output_type": "stream",
     "text": [
      "146796 jokes in the final dataset\n"
     ]
    }
   ],
   "source": [
    "# Sum the scores for all jokes with the same setup and punchline\n",
    "jokes['score'] = jokes.groupby(['setup', 'punchline'])['score'].transform('sum')\n",
    "# Then drop the duplicate entries\n",
    "jokes = jokes.drop_duplicates(subset=['setup','punchline'])\n",
    "print('{} jokes in the final dataset'.format(jokes.shape[0]))"
   ]
  },
  {
   "cell_type": "markdown",
   "id": "aea104b3-f260-4496-99cd-e580f0f7cbc0",
   "metadata": {},
   "source": [
    "<div style=background-color:#EEEEFF>\n",
    "\n",
    "Let's split the jokes into a training set and a test set.  We'll use a fixed random seed so that we choose the same split each time.\n",
    "    \n",
    "We'll then write the jokes dataset to disk and take a look at some examples."
   ]
  },
  {
   "cell_type": "code",
   "execution_count": 19,
   "id": "11701eea-5c57-4580-a7e6-c194e1bee3fd",
   "metadata": {},
   "outputs": [
    {
     "name": "stdout",
     "output_type": "stream",
     "text": [
      "    146796 jokes in our final dataset\n",
      "    102757 jokes in our training set\n",
      "     44039 jokes in our test set\n",
      "Joke splits written to:\n",
      "    146796 in data/short_jokes_all.csv\n",
      "    102757 in data/short_jokes_train.csv\n",
      "     44039 in data/short_jokes_test.csv\n",
      "       300 in data/short_jokes_minitest.csv\n"
     ]
    }
   ],
   "source": [
    "print('{:>10} jokes in our final dataset'.format(jokes.shape[0]))\n",
    "\n",
    "train_frac = 0.7  # Use 70% of jokes for training, 30% for testing\n",
    "seed = 40         # Use a fixed seed for random state so that we always get the same splits\n",
    "mini_count = 300  # Let's also store a small subset of the test data as a \"mini\" test to use during development.\n",
    "\n",
    "jokes_train = jokes.sample(frac=train_frac, axis=0, random_state=seed)\n",
    "jokes_test = jokes[~jokes.index.isin(jokes_train.index)]\n",
    "\n",
    "print('{:>10} jokes in our training set'.format(jokes_train.shape[0]))\n",
    "print('{:>10} jokes in our test set'.format(jokes_test.shape[0]))\n",
    "\n",
    "output_columns = ['setup','punchline','score']\n",
    "outfile = 'data/short_jokes.csv'\n",
    "\n",
    "print('Joke splits written to:')\n",
    "for dset,name in [(jokes,'_all'), \n",
    "                  (jokes_train, '_train'),\n",
    "                  (jokes_test,'_test'),\n",
    "                  (jokes_test.iloc[:mini_count],'_minitest')]:\n",
    "    dset[output_columns].to_csv(outfile.replace('.csv',name+'.csv'), header=True, index=False)\n",
    "    print('{:>10} in {}'.format(dset.shape[0],outfile.replace('.csv',name+'.csv')))"
   ]
  },
  {
   "cell_type": "code",
   "execution_count": 20,
   "id": "b6089b3f-c59f-445b-a162-110bde13cf51",
   "metadata": {},
   "outputs": [
    {
     "name": "stdout",
     "output_type": "stream",
     "text": [
      "\n",
      "Here are some examples:\n"
     ]
    },
    {
     "data": {
      "text/html": [
       "<div>\n",
       "<style scoped>\n",
       "    .dataframe tbody tr th:only-of-type {\n",
       "        vertical-align: middle;\n",
       "    }\n",
       "\n",
       "    .dataframe tbody tr th {\n",
       "        vertical-align: top;\n",
       "    }\n",
       "\n",
       "    .dataframe thead th {\n",
       "        text-align: right;\n",
       "    }\n",
       "</style>\n",
       "<table border=\"1\" class=\"dataframe\">\n",
       "  <thead>\n",
       "    <tr style=\"text-align: right;\">\n",
       "      <th></th>\n",
       "      <th>setup</th>\n",
       "      <th>punchline</th>\n",
       "      <th>score</th>\n",
       "      <th>question</th>\n",
       "      <th>punch_length</th>\n",
       "    </tr>\n",
       "  </thead>\n",
       "  <tbody>\n",
       "    <tr>\n",
       "      <th>1</th>\n",
       "      <td>Did you know Google now has a platform for recording your bowel movements?</td>\n",
       "      <td>It's called Google Sheets.</td>\n",
       "      <td>9</td>\n",
       "      <td>True</td>\n",
       "      <td>4</td>\n",
       "    </tr>\n",
       "    <tr>\n",
       "      <th>24</th>\n",
       "      <td>What do you call a boat full of dentists?</td>\n",
       "      <td>A tooth ferry</td>\n",
       "      <td>126</td>\n",
       "      <td>True</td>\n",
       "      <td>3</td>\n",
       "    </tr>\n",
       "    <tr>\n",
       "      <th>42</th>\n",
       "      <td>How do you know someone is feeling horny?</td>\n",
       "      <td>They click on this post</td>\n",
       "      <td>2</td>\n",
       "      <td>True</td>\n",
       "      <td>5</td>\n",
       "    </tr>\n",
       "    <tr>\n",
       "      <th>95</th>\n",
       "      <td>Why do you call your dog ”I-know-what-you-did”?</td>\n",
       "      <td>I love how many people jump 3 feet high when I start calling him.</td>\n",
       "      <td>14</td>\n",
       "      <td>True</td>\n",
       "      <td>14</td>\n",
       "    </tr>\n",
       "    <tr>\n",
       "      <th>194</th>\n",
       "      <td>Who led the digitization of your company?</td>\n",
       "      <td>1. CEO 2. CTO 3. COVID-19</td>\n",
       "      <td>5</td>\n",
       "      <td>True</td>\n",
       "      <td>6</td>\n",
       "    </tr>\n",
       "    <tr>\n",
       "      <th>237</th>\n",
       "      <td>what do you call a fish with no fins??</td>\n",
       "      <td>unfinished!  and sad :(</td>\n",
       "      <td>3</td>\n",
       "      <td>True</td>\n",
       "      <td>4</td>\n",
       "    </tr>\n",
       "    <tr>\n",
       "      <th>259</th>\n",
       "      <td>What is Godzilla’s favorite cheese?</td>\n",
       "      <td>Gorgonzilla</td>\n",
       "      <td>5</td>\n",
       "      <td>True</td>\n",
       "      <td>1</td>\n",
       "    </tr>\n",
       "    <tr>\n",
       "      <th>262</th>\n",
       "      <td>What do you call a shy sponge?</td>\n",
       "      <td>Aloofa</td>\n",
       "      <td>2</td>\n",
       "      <td>True</td>\n",
       "      <td>1</td>\n",
       "    </tr>\n",
       "    <tr>\n",
       "      <th>331</th>\n",
       "      <td>Why are all the parents going cross-eyed during the quarantine?</td>\n",
       "      <td>They can't control their pupils.</td>\n",
       "      <td>5</td>\n",
       "      <td>True</td>\n",
       "      <td>5</td>\n",
       "    </tr>\n",
       "    <tr>\n",
       "      <th>374</th>\n",
       "      <td>What does Santa Claus say when he works in his garden?</td>\n",
       "      <td>Hoe Hoe Hoe!</td>\n",
       "      <td>1</td>\n",
       "      <td>True</td>\n",
       "      <td>3</td>\n",
       "    </tr>\n",
       "  </tbody>\n",
       "</table>\n",
       "</div>"
      ],
      "text/plain": [
       "                                                                          setup  \\\n",
       "1    Did you know Google now has a platform for recording your bowel movements?   \n",
       "24                                    What do you call a boat full of dentists?   \n",
       "42                                    How do you know someone is feeling horny?   \n",
       "95                              Why do you call your dog ”I-know-what-you-did”?   \n",
       "194                                   Who led the digitization of your company?   \n",
       "237                                      what do you call a fish with no fins??   \n",
       "259                                         What is Godzilla’s favorite cheese?   \n",
       "262                                              What do you call a shy sponge?   \n",
       "331             Why are all the parents going cross-eyed during the quarantine?   \n",
       "374                      What does Santa Claus say when he works in his garden?   \n",
       "\n",
       "                                                             punchline  score  \\\n",
       "1                                           It's called Google Sheets.      9   \n",
       "24                                                       A tooth ferry    126   \n",
       "42                                             They click on this post      2   \n",
       "95   I love how many people jump 3 feet high when I start calling him.     14   \n",
       "194                                          1. CEO 2. CTO 3. COVID-19      5   \n",
       "237                                            unfinished!  and sad :(      3   \n",
       "259                                                        Gorgonzilla      5   \n",
       "262                                                             Aloofa      2   \n",
       "331                                   They can't control their pupils.      5   \n",
       "374                                                       Hoe Hoe Hoe!      1   \n",
       "\n",
       "     question  punch_length  \n",
       "1        True             4  \n",
       "24       True             3  \n",
       "42       True             5  \n",
       "95       True            14  \n",
       "194      True             6  \n",
       "237      True             4  \n",
       "259      True             1  \n",
       "262      True             1  \n",
       "331      True             5  \n",
       "374      True             3  "
      ]
     },
     "execution_count": 20,
     "metadata": {},
     "output_type": "execute_result"
    }
   ],
   "source": [
    "print('\\nHere are some examples:')\n",
    "jokes_test.iloc[:10]"
   ]
  },
  {
   "cell_type": "code",
   "execution_count": 21,
   "id": "bec756b6-3a89-4dec-b147-d1d83264299b",
   "metadata": {},
   "outputs": [
    {
     "name": "stdout",
     "output_type": "stream",
     "text": [
      "\n",
      "And here are the top-10 scoring short Q/A-type jokes on Reddit:\n"
     ]
    },
    {
     "data": {
      "text/html": [
       "<div>\n",
       "<style scoped>\n",
       "    .dataframe tbody tr th:only-of-type {\n",
       "        vertical-align: middle;\n",
       "    }\n",
       "\n",
       "    .dataframe tbody tr th {\n",
       "        vertical-align: top;\n",
       "    }\n",
       "\n",
       "    .dataframe thead th {\n",
       "        text-align: right;\n",
       "    }\n",
       "</style>\n",
       "<table border=\"1\" class=\"dataframe\">\n",
       "  <thead>\n",
       "    <tr style=\"text-align: right;\">\n",
       "      <th></th>\n",
       "      <th>setup</th>\n",
       "      <th>punchline</th>\n",
       "      <th>score</th>\n",
       "      <th>question</th>\n",
       "      <th>punch_length</th>\n",
       "    </tr>\n",
       "  </thead>\n",
       "  <tbody>\n",
       "    <tr>\n",
       "      <th>108414</th>\n",
       "      <td>What did the reddit user say after detonating a bomb inside a bank?</td>\n",
       "      <td>EDIT: Wow! This blew up! Thanks for the gold!</td>\n",
       "      <td>93233</td>\n",
       "      <td>True</td>\n",
       "      <td>9</td>\n",
       "    </tr>\n",
       "    <tr>\n",
       "      <th>30021</th>\n",
       "      <td>Do you want to know why the republicans won't impeach Trump?</td>\n",
       "      <td>Because they believe in carrying a baby to full term.</td>\n",
       "      <td>72653</td>\n",
       "      <td>True</td>\n",
       "      <td>10</td>\n",
       "    </tr>\n",
       "    <tr>\n",
       "      <th>389332</th>\n",
       "      <td>What do you call it when two transgender midgets have sex?</td>\n",
       "      <td>Micro trans-action</td>\n",
       "      <td>68853</td>\n",
       "      <td>True</td>\n",
       "      <td>2</td>\n",
       "    </tr>\n",
       "    <tr>\n",
       "      <th>166123</th>\n",
       "      <td>Why was the anti-vaxxer‘s 4 year old child crying?</td>\n",
       "      <td>Midlife crisis</td>\n",
       "      <td>66729</td>\n",
       "      <td>True</td>\n",
       "      <td>2</td>\n",
       "    </tr>\n",
       "    <tr>\n",
       "      <th>345189</th>\n",
       "      <td>When does a joke become a dad joke?</td>\n",
       "      <td>When the punchline becomes apparent.</td>\n",
       "      <td>64480</td>\n",
       "      <td>True</td>\n",
       "      <td>5</td>\n",
       "    </tr>\n",
       "    <tr>\n",
       "      <th>184867</th>\n",
       "      <td>What's it called when a chameleon can't change its colors anymore?</td>\n",
       "      <td>A reptile dysfunction.</td>\n",
       "      <td>60284</td>\n",
       "      <td>True</td>\n",
       "      <td>3</td>\n",
       "    </tr>\n",
       "    <tr>\n",
       "      <th>230752</th>\n",
       "      <td>If the Klu Klux Klan leaders are wizards, why don't they cast a spell to kill all those that oppose them?</td>\n",
       "      <td>Because they don't have access to black magic.</td>\n",
       "      <td>59936</td>\n",
       "      <td>True</td>\n",
       "      <td>8</td>\n",
       "    </tr>\n",
       "    <tr>\n",
       "      <th>600106</th>\n",
       "      <td>What is Gordon Ramsay's favorite subreddit?</td>\n",
       "      <td>It's fucking r/aww   edit: Fucking hell this blew up overnight. Thanks, you fuckin useless sacks of yankee dankee doodle shite</td>\n",
       "      <td>58804</td>\n",
       "      <td>True</td>\n",
       "      <td>20</td>\n",
       "    </tr>\n",
       "    <tr>\n",
       "      <th>132694</th>\n",
       "      <td>Why is girlfriend one word but best friend is two words?</td>\n",
       "      <td>Because your best friend gives you space when you need it.</td>\n",
       "      <td>57604</td>\n",
       "      <td>True</td>\n",
       "      <td>11</td>\n",
       "    </tr>\n",
       "    <tr>\n",
       "      <th>203833</th>\n",
       "      <td>Courtesy of my 6yo daughter: What do you call a dinosaur that takes care of its teeth?</td>\n",
       "      <td>A Flossiraptor</td>\n",
       "      <td>55697</td>\n",
       "      <td>True</td>\n",
       "      <td>2</td>\n",
       "    </tr>\n",
       "  </tbody>\n",
       "</table>\n",
       "</div>"
      ],
      "text/plain": [
       "                                                                                                            setup  \\\n",
       "108414                                        What did the reddit user say after detonating a bomb inside a bank?   \n",
       "30021                                                Do you want to know why the republicans won't impeach Trump?   \n",
       "389332                                                 What do you call it when two transgender midgets have sex?   \n",
       "166123                                                         Why was the anti-vaxxer‘s 4 year old child crying?   \n",
       "345189                                                                        When does a joke become a dad joke?   \n",
       "184867                                         What's it called when a chameleon can't change its colors anymore?   \n",
       "230752  If the Klu Klux Klan leaders are wizards, why don't they cast a spell to kill all those that oppose them?   \n",
       "600106                                                                What is Gordon Ramsay's favorite subreddit?   \n",
       "132694                                                   Why is girlfriend one word but best friend is two words?   \n",
       "203833                     Courtesy of my 6yo daughter: What do you call a dinosaur that takes care of its teeth?   \n",
       "\n",
       "                                                                                                                             punchline  \\\n",
       "108414                                                                                   EDIT: Wow! This blew up! Thanks for the gold!   \n",
       "30021                                                                            Because they believe in carrying a baby to full term.   \n",
       "389332                                                                                                              Micro trans-action   \n",
       "166123                                                                                                                  Midlife crisis   \n",
       "345189                                                                                            When the punchline becomes apparent.   \n",
       "184867                                                                                                          A reptile dysfunction.   \n",
       "230752                                                                                  Because they don't have access to black magic.   \n",
       "600106  It's fucking r/aww   edit: Fucking hell this blew up overnight. Thanks, you fuckin useless sacks of yankee dankee doodle shite   \n",
       "132694                                                                      Because your best friend gives you space when you need it.   \n",
       "203833                                                                                                                  A Flossiraptor   \n",
       "\n",
       "        score  question  punch_length  \n",
       "108414  93233      True             9  \n",
       "30021   72653      True            10  \n",
       "389332  68853      True             2  \n",
       "166123  66729      True             2  \n",
       "345189  64480      True             5  \n",
       "184867  60284      True             3  \n",
       "230752  59936      True             8  \n",
       "600106  58804      True            20  \n",
       "132694  57604      True            11  \n",
       "203833  55697      True             2  "
      ]
     },
     "execution_count": 21,
     "metadata": {},
     "output_type": "execute_result"
    }
   ],
   "source": [
    "print('\\nAnd here are the top-10 scoring short Q/A-type jokes on Reddit:')\n",
    "jokes_sorted = jokes.sort_values('score',ascending=False)\n",
    "jokes_sorted.iloc[:10]"
   ]
  },
  {
   "cell_type": "code",
   "execution_count": null,
   "id": "79a1d982-b104-406a-940a-2675c2fa2cb3",
   "metadata": {},
   "outputs": [],
   "source": []
  }
 ],
 "metadata": {
  "kernelspec": {
   "display_name": "Python 3 (ipykernel)",
   "language": "python",
   "name": "python3"
  },
  "language_info": {
   "codemirror_mode": {
    "name": "ipython",
    "version": 3
   },
   "file_extension": ".py",
   "mimetype": "text/x-python",
   "name": "python",
   "nbconvert_exporter": "python",
   "pygments_lexer": "ipython3",
   "version": "3.8.1"
  }
 },
 "nbformat": 4,
 "nbformat_minor": 5
}
